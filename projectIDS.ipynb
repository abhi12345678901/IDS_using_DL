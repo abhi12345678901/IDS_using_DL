#IMPORT LIBRARIES

import numpy as np
import pandas as pd
import tensorflow as tf
from tensorflow.keras.models import Sequential
from tensorflow.keras.layers import Dense, Conv1D, MaxPooling1D, LSTM, Flatten, Dropout
from sklearn.model_selection import train_test_split
from sklearn.preprocessing import StandardScaler, LabelEncoder
from sklearn.metrics import classification_report, confusion_matrix

##Load and Preprocess the Dataset
# Load the dataset (assuming it's in CSV format)
data = pd.read_csv('/content/Merged01.csv')

# Drop unnecessary features (if any)
data = data.drop(columns=['Number'])

# Separate features and labels
X = data.drop(columns=['Label'])
y = data['Label']

# Encode labels (binary and multiclass)
label_encoder = LabelEncoder()
y_binary = label_encoder.fit_transform(y)  # Binary classification (attack or not)
y_multiclass = label_encoder.fit_transform(y)  # Multiclass classification (DDoS sub-attacks)

# Replace infinite values with NaN
X.replace([np.inf, -np.inf], np.nan, inplace=True)

# Normalize the features
scaler = StandardScaler()
X = scaler.fit_transform(X)

# Split the dataset into training and testing sets
X_train, X_test, y_train_binary, y_test_binary = train_test_split(X, y_binary, test_size=0.2, random_state=42)
X_train, X_test, y_train_multiclass, y_test_multiclass = train_test_split(X, y_multiclass, test_size=0.2, random_state=42)

#Define the Two-Stage Model
#Stage 1: Binary Classification Model (Attack or Not)
def create_binary_model(input_shape):
    model = Sequential()
    model.add(Dense(64, input_shape=(input_shape,), activation='relu'))
    model.add(Dropout(0.2))
    model.add(Dense(32, activation='relu'))
    model.add(Dropout(0.2))
    model.add(Dense(1, activation='sigmoid'))  # Binary classification
    model.compile(optimizer='adam', loss='binary_crossentropy', metrics=['accuracy'])
    return model

# Create and train the binary model
binary_model = create_binary_model(X_train.shape[1])
binary_model.fit(X_train, y_train_binary, epochs=10, batch_size=256, validation_split=0.2)

#Stage 2: Multiclass Classification Model (DDoS Sub-Attacks)
def create_multiclass_model(input_shape, num_classes):
    model = Sequential()
    model.add(Conv1D(filters=64, kernel_size=3, activation='relu', input_shape=(input_shape, 1)))
    model.add(MaxPooling1D(pool_size=2))
    model.add(LSTM(100, return_sequences=True))
    model.add(LSTM(100))
    model.add(Dense(100, activation='relu'))
    model.add(Dropout(0.2))
    model.add(Dense(num_classes, activation='softmax'))  # Multiclass classification
    model.compile(optimizer='adam', loss='sparse_categorical_crossentropy', metrics=['accuracy'])
    return model

# Create and train the multiclass model
multiclass_model = create_multiclass_model(X_train.shape[1], num_classes=len(np.unique(y_multiclass)))
multiclass_model.fit(X_train, y_train_multiclass, epochs=10, batch_size=256, validation_split=0.2)

#Step 4: Evaluate the Models Evaluate Binary Model
# Evaluate binary model
binary_loss, binary_accuracy = binary_model.evaluate(X_test, y_test_binary)
print(f"Binary Model - Loss: {binary_loss}, Accuracy: {binary_accuracy}")

# Predictions
y_pred_binary = binary_model.predict(X_test)
y_pred_binary = (y_pred_binary > 0.5).astype(int)

# Classification report
print(classification_report(y_test_binary, y_pred_binary))

#Evaluate Multiclass Model
# Evaluate multiclass model
multiclass_loss, multiclass_accuracy = multiclass_model.evaluate(X_test, y_test_multiclass)
print(f"Multiclass Model - Loss: {multiclass_loss}, Accuracy: {multiclass_accuracy}")

# Predictions
y_pred_multiclass = multiclass_model.predict(X_test)
y_pred_multiclass = np.argmax(y_pred_multiclass, axis=1)

# Classification report
print(classification_report(y_test_multiclass, y_pred_multiclass))

#Step 5: Combine the Two Stages for Real-Time Detection
def two_stage_detection(X):
    # Stage 1: Binary classification
    is_attack = binary_model.predict(X)
    if is_attack > 0.5:
        # Stage 2: Multiclass classification
        attack_type = multiclass_model.predict(X)
        attack_type = np.argmax(attack_type, axis=1)
        return attack_type
    else:
        return "Benign"

# Example usage
sample = X_test[0:1]  # Take a single sample
result = two_stage_detection(sample)
print(f"Detection Result: {result}")

